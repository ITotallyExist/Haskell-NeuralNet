{
 "cells": [
  {
   "cell_type": "code",
   "execution_count": null,
   "metadata": {
    "collapsed": true
   },
   "outputs": [],
   "source": [
    "import os.path\n",
    "import numpy as np\n",
    "from tensorflow.examples.tutorials.mnist import input_data\n",
    "mnist = input_data.read_data_sets(\"MNIST_data/\", one_hot=True)"
   ]
  },
  {
   "cell_type": "code",
   "execution_count": null,
   "metadata": {
    "collapsed": true
   },
   "outputs": [],
   "source": [
    "def mnistTest (number):\n",
    "    command = \"testClassification y [\"\n",
    "    for t in range (0,number):\n",
    "        command = command + \"[\"\n",
    "        for i in range (0,784):\n",
    "            command = command + (str(mnist.test.images[t][i])) + \",\"\n",
    "        command = (command[:-1])+\"],\"\n",
    "    command = (command[:-1])+\"] [\"\n",
    "    for t in range (0,number):\n",
    "        command = command + \"[\"\n",
    "        for i in range (0,10):\n",
    "            command = command + (str(mnist.test.labels[t][i])) + \",\"\n",
    "        command = (command[:-1])+\"],\"\n",
    "    command = (command[:-1])+\"]\"\n",
    "    return (command)"
   ]
  }
 ],
 "metadata": {
  "kernelspec": {
   "display_name": "Python 3",
   "language": "python",
   "name": "python3"
  },
  "language_info": {
   "codemirror_mode": {
    "name": "ipython",
    "version": 3
   },
   "file_extension": ".py",
   "mimetype": "text/x-python",
   "name": "python",
   "nbconvert_exporter": "python",
   "pygments_lexer": "ipython3",
   "version": "3.6.2"
  }
 },
 "nbformat": 4,
 "nbformat_minor": 2
}
